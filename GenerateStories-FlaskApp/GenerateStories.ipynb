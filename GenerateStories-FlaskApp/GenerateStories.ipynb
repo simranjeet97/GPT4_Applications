{
 "cells": [
  {
   "cell_type": "code",
   "execution_count": 2,
   "metadata": {},
   "outputs": [],
   "source": [
    "import openai\n",
    "import configparser\n",
    "\n",
    "# Read the configuration file\n",
    "config = configparser.ConfigParser()\n",
    "config.read('config.ini')\n",
    "\n",
    "# Retrieve the API key from the configuration file\n",
    "api_key = config.get('openai', 'api_key')\n",
    "\n",
    "# Use the API key in your code\n",
    "openai.api_key = api_key"
   ]
  },
  {
   "cell_type": "code",
   "execution_count": 2,
   "metadata": {},
   "outputs": [],
   "source": [
    "# Step 1: Collecting Story Prompts\n",
    "prompts = [\n",
    "    \"In a small town by the river, there lived a mysterious old man.\",\n",
    "    \"The spaceship landed on an unknown planet, revealing a surprising discovery.\",\n",
    "    \"She opened the door to her childhood home, only to find something unexpected.\",\n",
    "    # Add more prompts as needed\n",
    "]"
   ]
  },
  {
   "cell_type": "code",
   "execution_count": 3,
   "metadata": {},
   "outputs": [],
   "source": [
    "\n",
    "# Step 2: Preprocessing Prompts\n",
    "tokenized_prompts = []\n",
    "for prompt in prompts:\n",
    "    # Tokenize prompt into smaller chunks, e.g., sentences or paragraphs\n",
    "    tokenized_prompt = prompt.split(\". \")\n",
    "    tokenized_prompts.extend(tokenized_prompt)"
   ]
  },
  {
   "cell_type": "code",
   "execution_count": 4,
   "metadata": {},
   "outputs": [
    {
     "data": {
      "text/plain": [
       "['In a small town by the river, there lived a mysterious old man.',\n",
       " 'The spaceship landed on an unknown planet, revealing a surprising discovery.',\n",
       " 'She opened the door to her childhood home, only to find something unexpected.']"
      ]
     },
     "execution_count": 4,
     "metadata": {},
     "output_type": "execute_result"
    }
   ],
   "source": [
    "tokenized_prompts"
   ]
  },
  {
   "cell_type": "code",
   "execution_count": 6,
   "metadata": {},
   "outputs": [],
   "source": [
    "# Step 3: Data Augmentation (if desired)\n",
    "# Implement data augmentation techniques here, e.g., synonym replacement, word swapping, etc.\n",
    "\n",
    "# Step 4: Create Prompt-Response Pairs\n",
    "prompt_response_pairs = []\n",
    "for tokenized_prompt in tokenized_prompts:\n",
    "    # Generate response from the GPT-4 API\n",
    "    response = openai.Completion.create(\n",
    "        model=\"text-davinci-003\",\n",
    "        temperature=0.7,\n",
    "        prompt=tokenized_prompt,\n",
    "        max_tokens=1024,  # Set the desired maximum length of the generated story\n",
    "        n=1,  # Set the number of responses to generate\n",
    "        stop=None,  # Set any stopping criteria, if needed\n",
    "    )\n",
    "    # Extract the generated story from the API response\n",
    "    generated_story = response.choices[0].text.strip()\n",
    "    # Create prompt-response pair\n",
    "    prompt_response_pair = (tokenized_prompt, generated_story)\n",
    "    prompt_response_pairs.append(prompt_response_pair)\n"
   ]
  },
  {
   "cell_type": "code",
   "execution_count": 8,
   "metadata": {},
   "outputs": [
    {
     "data": {
      "text/plain": [
       "[('In a small town by the river, there lived a mysterious old man.',\n",
       "  \"He was a quiet man who rarely spoke to anyone, but the townspeople knew he was wise and kind. Each day, the old man would take long walks along the riverbank, collecting sticks and stones that he would later use to build sculptures and small works of art.\\n\\nWhenever someone in the town was in need of advice or help, they would seek out the old man and he would always offer wisdom and kindness. He had a deep understanding of the world and could often offer insight into seemingly impossible problems.\\n\\nOver the years, the old man's reputation grew and soon people from all over the area were coming to him for advice. He was respected and admired by the townspeople, who saw him as a wise and benevolent figure.\\n\\nThe old man's life was quiet and he was content with his simple existence. He never asked for anything in return and would often give away his sculptures and artwork to those in need. He was a mysterious figure who left a lasting impression on the townspeople, who will never forget the kindness and wisdom of the mysterious old man by the river.\"),\n",
       " ('The spaceship landed on an unknown planet, revealing a surprising discovery.',\n",
       "  'The planet was inhabited by an alien species, who were friendly and welcoming to the crew of the spaceship. The crew was amazed to find a thriving and advanced civilization on the planet, far beyond what they had ever imagined. They soon realized that the aliens had developed their own technology and had achieved a level of prosperity and comfort far beyond what was found on earth. After making contact with the aliens, the crew of the spaceship exchanged knowledge and ideas, strengthening the bond between both species. The crew eventually set off to explore the planet and its many wonders, and the aliens continued to foster a strong relationship with them for years to come.'),\n",
       " ('She opened the door to her childhood home, only to find something unexpected.',\n",
       "  'Inside the house was an unfamiliar family, bustling around the kitchen. She could smell the aroma of dinner cooking and hear the children laugh. The woman of the house turned around and saw the girl in the doorway. She smiled warmly and held out her hand. \"Welcome,\" she said, \"You must be the new owners. We were just getting ready to leave. Please, come in and make yourselves at home.\"')]"
      ]
     },
     "execution_count": 8,
     "metadata": {},
     "output_type": "execute_result"
    }
   ],
   "source": [
    "prompt_response_pairs"
   ]
  },
  {
   "cell_type": "code",
   "execution_count": 9,
   "metadata": {},
   "outputs": [],
   "source": [
    "# Prompt Engineering\n",
    "\n",
    "# Step 1: Adding Context to Prompts\n",
    "original_prompt = \"In a small town by the river, there lived a mysterious old man.\"\n",
    "context = \"He was known for his eccentric behavior and strange inventions.\"\n",
    "\n",
    "# Combine the original prompt with additional context\n",
    "augmented_prompt = original_prompt + \" \" + context\n",
    "\n",
    "# Step 2: Modifying Prompt Format\n",
    "question_format_prompt = \"What happens when \" + original_prompt + \"?\"\n",
    "gap_filling_prompt = \"Complete the story: \" + original_prompt + \" ___________.\""
   ]
  },
  {
   "cell_type": "code",
   "execution_count": 10,
   "metadata": {},
   "outputs": [
    {
     "data": {
      "text/plain": [
       "\"He rarely left his house, but when he did, he would often be seen tinkering with some strange contraption or another.\\n\\nPeople in the town whispered about the old man, wondering what he was up to. Some even said they had seen him flying around town on a strange contraption of his own invention. Some kids even dared each other to sneak into the old man's house and see what he was doing, but no one ever did.\\n\\nOne day, a young boy decided to take on the challenge. He snuck into the old man's house and discovered a workshop full of strange, mechanical devices and gadgets. The old man was not there, but the boy was able to piece together what he was up to.\\n\\nThe old man had invented a time machine! He was using it to travel back in time to experience different moments in history. The boy was amazed and filled with wonder. He quickly ran back to town and told everyone what he had discovered.\\n\\nThe old man soon became famous for his time machine and the people of the town began to respect him for his ingenuity. He was seen as a kind of folk hero, and his invention was celebrated throughout the town.\\n\\nThe old man never revealed the details of his time machine, but it's said that he used it to visit many places and times throughout history. To this day, the people of the town still tell stories about the mysterious old man and his amazing time machine.\""
      ]
     },
     "execution_count": 10,
     "metadata": {},
     "output_type": "execute_result"
    }
   ],
   "source": [
    "response = openai.Completion.create(\n",
    "        model=\"text-davinci-003\",\n",
    "        temperature=0.7,\n",
    "        prompt=augmented_prompt,\n",
    "        max_tokens=1024,  # Set the desired maximum length of the generated story\n",
    "        n=1,  # Set the number of responses to generate\n",
    "        stop=None,  # Set any stopping criteria, if needed\n",
    "    )\n",
    "# Extract the generated story from the API response\n",
    "generated_story = response.choices[0].text.strip()\n",
    "generated_story"
   ]
  },
  {
   "cell_type": "code",
   "execution_count": null,
   "metadata": {},
   "outputs": [],
   "source": []
  }
 ],
 "metadata": {
  "kernelspec": {
   "display_name": "Python 3.10.5 64-bit",
   "language": "python",
   "name": "python3"
  },
  "language_info": {
   "codemirror_mode": {
    "name": "ipython",
    "version": 3
   },
   "file_extension": ".py",
   "mimetype": "text/x-python",
   "name": "python",
   "nbconvert_exporter": "python",
   "pygments_lexer": "ipython3",
   "version": "3.10.5"
  },
  "orig_nbformat": 4,
  "vscode": {
   "interpreter": {
    "hash": "aee8b7b246df8f9039afb4144a1f6fd8d2ca17a180786b69acc140d282b71a49"
   }
  }
 },
 "nbformat": 4,
 "nbformat_minor": 2
}
